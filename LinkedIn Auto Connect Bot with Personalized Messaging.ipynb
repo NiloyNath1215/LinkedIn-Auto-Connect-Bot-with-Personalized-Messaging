{
 "cells": [
  {
   "cell_type": "code",
   "execution_count": 1,
   "metadata": {},
   "outputs": [
    {
     "name": "stdout",
     "output_type": "stream",
     "text": [
      "Requirement already satisfied: selenium in c:\\programdata\\anaconda3\\lib\\site-packages (3.141.0)\n",
      "Requirement already satisfied: urllib3 in c:\\programdata\\anaconda3\\lib\\site-packages (from selenium) (1.24.2)\n",
      "Requirement already satisfied: beautifulsoup4 in c:\\programdata\\anaconda3\\lib\\site-packages (4.7.1)\n",
      "Requirement already satisfied: soupsieve>=1.2 in c:\\programdata\\anaconda3\\lib\\site-packages (from beautifulsoup4) (1.8)\n"
     ]
    }
   ],
   "source": [
    "# https://pypi.org/project/selenium/\n",
    "# https://selenium-python.readthedocs.io/api.html\n",
    "!pip install selenium\n",
    "\n",
    "# https://pypi.org/project/beautifulsoup4/\n",
    "!pip install beautifulsoup4\n",
    "\n",
    "# Download Google Chrome Drive -> https://chromedriver.chromium.org/downloads\n",
    "# Driver is also included in my github repository\n",
    "# Don't forget to edit config.txt file -> put your email and linkedin password"
   ]
  },
  {
   "cell_type": "code",
   "execution_count": 3,
   "metadata": {},
   "outputs": [],
   "source": [
    "import os, random, sys, time\n",
    "# from urllib.parse import urlparse\n",
    "from selenium import webdriver\n",
    "from bs4 import BeautifulSoup"
   ]
  },
  {
   "cell_type": "code",
   "execution_count": 4,
   "metadata": {},
   "outputs": [],
   "source": [
    "browser = webdriver.Chrome('driver/chromedriver.exe')"
   ]
  },
  {
   "cell_type": "code",
   "execution_count": 5,
   "metadata": {},
   "outputs": [],
   "source": [
    "browser.get('https://www.linkedin.com/uas/login')"
   ]
  },
  {
   "cell_type": "code",
   "execution_count": 6,
   "metadata": {},
   "outputs": [],
   "source": [
    "file = open('config.txt')\n",
    "lines = file.readlines()\n",
    "username = lines[0]\n",
    "password = lines[1]"
   ]
  },
  {
   "cell_type": "code",
   "execution_count": 7,
   "metadata": {},
   "outputs": [],
   "source": [
    "elementID = browser.find_element_by_id('username')\n",
    "elementID.send_keys(username)"
   ]
  },
  {
   "cell_type": "code",
   "execution_count": 8,
   "metadata": {},
   "outputs": [],
   "source": [
    "elementID = browser.find_element_by_id('password')\n",
    "elementID.send_keys(password)"
   ]
  },
  {
   "cell_type": "code",
   "execution_count": 9,
   "metadata": {},
   "outputs": [],
   "source": [
    "elementID.submit()"
   ]
  },
  {
   "cell_type": "code",
   "execution_count": 10,
   "metadata": {},
   "outputs": [],
   "source": [
    "visitingProfileID = '/in/laxmimerit/'\n",
    "fullLink = 'https://www.linkedin.com' + visitingProfileID\n",
    "browser.get(fullLink)"
   ]
  },
  {
   "cell_type": "code",
   "execution_count": 11,
   "metadata": {},
   "outputs": [],
   "source": [
    "visitedProfiles = []\n",
    "profilesQueued = []"
   ]
  },
  {
   "cell_type": "code",
   "execution_count": 13,
   "metadata": {},
   "outputs": [],
   "source": [
    "def getNewProfileIDs(soup, profilesQueued):\n",
    "    profilesID = []\n",
    "    pav = soup.find('section', {'class': 'pv-profile-section pv-browsemap-section profile-section artdeco-container-card ember-view'})\n",
    "    all_links = pav.findAll('a', {'class': 'pv-browsemap-section__member ember-view'})\n",
    "    for link in all_links:\n",
    "        userID = link.get('href')\n",
    "        if((userID not in profilesQueued) and (userID not in visitedProfiles)):\n",
    "            profilesID.append(userID)\n",
    "    return profilesID"
   ]
  },
  {
   "cell_type": "code",
   "execution_count": 14,
   "metadata": {},
   "outputs": [
    {
     "data": {
      "text/plain": [
       "['/in/nishant-nerpagar-8b701b13/',\n",
       " '/in/aanal-shah-6a0101146/',\n",
       " '/in/faisal-malek-a73b49115/',\n",
       " '/in/sandip-bhadeliya/',\n",
       " '/in/dixit-patel-229216157/',\n",
       " '/in/chirag-dave-1aa25a91/',\n",
       " '/in/hetu-patel-82ba83158/',\n",
       " '/in/akash-danidhariya-156903160/',\n",
       " '/in/akash-hirpara-5b0632ab/',\n",
       " '/in/pavanhulkoti/']"
      ]
     },
     "execution_count": 14,
     "metadata": {},
     "output_type": "execute_result"
    }
   ],
   "source": [
    "getNewProfileIDs(BeautifulSoup(browser.page_source), profilesQueued)"
   ]
  },
  {
   "cell_type": "code",
   "execution_count": 19,
   "metadata": {},
   "outputs": [],
   "source": [
    "profilesQueued = getNewProfileIDs(BeautifulSoup(browser.page_source), profilesQueued)"
   ]
  },
  {
   "cell_type": "code",
   "execution_count": null,
   "metadata": {},
   "outputs": [
    {
     "name": "stdout",
     "output_type": "stream",
     "text": [
      "error\n",
      "error\n",
      "error\n",
      "error\n",
      "error\n",
      "error\n",
      "error\n",
      "error\n",
      "error\n",
      "error\n",
      "error\n",
      "error\n",
      "error\n",
      "error\n",
      "error\n",
      "error\n",
      "error\n",
      "error\n",
      "error\n",
      "error\n",
      "error\n",
      "error\n",
      "error\n",
      "error\n",
      "error\n",
      "error\n",
      "error\n",
      "error\n",
      "error\n",
      "error\n",
      "error\n",
      "error\n",
      "error\n",
      "error\n",
      "error\n",
      "error\n",
      "error\n",
      "error\n",
      "error\n",
      "error\n",
      "error\n",
      "error\n",
      "error\n",
      "error\n",
      "error\n",
      "error\n",
      "error\n",
      "error\n",
      "error\n",
      "error\n",
      "error\n",
      "error\n",
      "error\n"
     ]
    }
   ],
   "source": [
    "while profilesQueued:\n",
    "    try:\n",
    "        visitingProfileID = profilesQueued.pop()\n",
    "        visitedProfiles.append(visitingProfileID)\n",
    "        fullLink = 'https://www.linkedin.com' + visitingProfileID\n",
    "        browser.get(fullLink)\n",
    "\n",
    "        browser.find_element_by_class_name('pv-s-profile-actions').click()\n",
    "\n",
    "        browser.find_element_by_class_name('mr1').click()\n",
    "\n",
    "        customMessage = \"Hello, I have found mutual interest area and I would be more than happy to connect with you. Kindly, accept my invitation. Thanks!\"\n",
    "        elementID = browser.find_element_by_id('custom-message')\n",
    "        elementID.send_keys(customMessage)\n",
    "\n",
    "        browser.find_element_by_class_name('ml1').click()\n",
    "\n",
    "        # Add the ID to the visitedUsersFile\n",
    "        with open('visitedUsers.txt', 'a') as visitedUsersFile:\n",
    "            visitedUsersFile.write(str(visitingProfileID)+'\\n')\n",
    "        visitedUsersFile.close()\n",
    "\n",
    "        # Get new profiles ID\n",
    "        soup = BeautifulSoup(browser.page_source)\n",
    "        try: \n",
    "            profilesQueued.extend(getNewProfileIDs(soup, profilesQueued))\n",
    "        except:\n",
    "            print('Continue')\n",
    "\n",
    "        # Pause\n",
    "        time.sleep(random.uniform(3, 7)) # Otherwise, sleep to make sure everything loads\n",
    "\n",
    "        if(len(visitedProfiles)%50==0):\n",
    "            print('Visited Profiles: ', len(visitedProfiles))\n",
    "\n",
    "        if(len(profilesQueued)>100000):\n",
    "            with open('profilesQueued.txt', 'a') as visitedUsersFile:\n",
    "                visitedUsersFile.write(str(visitingProfileID)+'\\n')\n",
    "            visitedUsersFile.close()\n",
    "            print('100,000 Done!!!')\n",
    "            break;\n",
    "    except:\n",
    "        print('error')"
   ]
  }
 ],
 "metadata": {
  "kernelspec": {
   "display_name": "Python 3",
   "language": "python",
   "name": "python3"
  },
  "language_info": {
   "codemirror_mode": {
    "name": "ipython",
    "version": 3
   },
   "file_extension": ".py",
   "mimetype": "text/x-python",
   "name": "python",
   "nbconvert_exporter": "python",
   "pygments_lexer": "ipython3",
   "version": "3.7.3"
  }
 },
 "nbformat": 4,
 "nbformat_minor": 2
}
